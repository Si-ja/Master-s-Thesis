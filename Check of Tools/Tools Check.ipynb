{
 "cells": [
  {
   "cell_type": "markdown",
   "metadata": {},
   "source": [
    "# Tools\n",
    "\n",
    "This is a small list of all the tools that were used in order to conduct the research and develop the model."
   ]
  },
  {
   "cell_type": "code",
   "execution_count": 1,
   "metadata": {},
   "outputs": [],
   "source": [
    "from platform import python_version\n",
    "import numpy\n",
    "import sklearn\n",
    "import pandas\n",
    "import matplotlib\n",
    "import torch\n",
    "import statsmodels\n",
    "import scipy"
   ]
  },
  {
   "cell_type": "code",
   "execution_count": 2,
   "metadata": {},
   "outputs": [
    {
     "name": "stdout",
     "output_type": "stream",
     "text": [
      "Python Version: \t3.7.4\n",
      "NumPy Version: \t\t1.16.4\n",
      "Scikit-Learn Version: \t0.21.2\n",
      "Pandas Version: \t0.25.1\n",
      "MatplotLib Version: \t3.1.1\n",
      "PyTorch Version: \t1.2.0\n",
      "CUDA Version: \t\t10.0\n",
      "StatsModels Version: \t0.10.1\n",
      "Scipy Version: \t\t1.3.1\n"
     ]
    }
   ],
   "source": [
    "print(\"Python Version: \\t{}\".format(python_version()))\n",
    "print(\"NumPy Version: \\t\\t{}\".format(numpy.__version__))\n",
    "print(\"Scikit-Learn Version: \\t{}\".format(sklearn.__version__))\n",
    "print(\"Pandas Version: \\t{}\".format(pandas.__version__))\n",
    "print(\"MatplotLib Version: \\t{}\".format(matplotlib.__version__))\n",
    "print(\"PyTorch Version: \\t{}\".format(torch.__version__))\n",
    "print(\"CUDA Version: \\t\\t{}\".format(torch.version.cuda))\n",
    "print(\"StatsModels Version: \\t{}\".format(statsmodels.__version__))\n",
    "print(\"Scipy Version: \\t\\t{}\".format(scipy.__version__))"
   ]
  }
 ],
 "metadata": {
  "kernelspec": {
   "display_name": "Python 3",
   "language": "python",
   "name": "python3"
  },
  "language_info": {
   "codemirror_mode": {
    "name": "ipython",
    "version": 3
   },
   "file_extension": ".py",
   "mimetype": "text/x-python",
   "name": "python",
   "nbconvert_exporter": "python",
   "pygments_lexer": "ipython3",
   "version": "3.7.3"
  }
 },
 "nbformat": 4,
 "nbformat_minor": 2
}
